{
 "cells": [
  {
   "cell_type": "code",
   "execution_count": 0,
   "metadata": {
    "application/vnd.databricks.v1+cell": {
     "cellMetadata": {
      "byteLimit": 2048000,
      "implicitDf": true,
      "rowLimit": 10000
     },
     "inputWidgets": {},
     "nuid": "b4f80309-2332-4a35-bf66-50820595d866",
     "showTitle": false,
     "title": ""
    }
   },
   "outputs": [
    {
     "output_type": "display_data",
     "data": {
      "text/html": [
       "<style scoped>\n",
       "  .table-result-container {\n",
       "    max-height: 300px;\n",
       "    overflow: auto;\n",
       "  }\n",
       "  table, th, td {\n",
       "    border: 1px solid black;\n",
       "    border-collapse: collapse;\n",
       "  }\n",
       "  th, td {\n",
       "    padding: 5px;\n",
       "  }\n",
       "  th {\n",
       "    text-align: left;\n",
       "  }\n",
       "</style><div class='table-result-container'><table class='table-result'><thead style='background-color: white'><tr></tr></thead><tbody></tbody></table></div>"
      ]
     },
     "metadata": {
      "application/vnd.databricks.v1+output": {
       "addedWidgets": {},
       "aggData": [],
       "aggError": "",
       "aggOverflow": false,
       "aggSchema": [],
       "aggSeriesLimitReached": false,
       "aggType": "",
       "arguments": {},
       "columnCustomDisplayInfos": {},
       "data": [],
       "datasetInfos": [],
       "dbfsResultPath": null,
       "isJsonSchema": true,
       "metadata": {},
       "overflow": false,
       "plotOptions": {
        "customPlotOptions": {},
        "displayType": "table",
        "pivotAggregation": null,
        "pivotColumns": null,
        "xColumns": null,
        "yColumns": null
       },
       "removedWidgets": [],
       "schema": [],
       "type": "table"
      }
     },
     "output_type": "display_data"
    }
   ],
   "source": [
    "%sql\n",
    "create or replace table reorder_column(col1 long, col2 long,col3 long, col4 long,col5 long, col6 long,\n",
    "                                       col7 long, col8 long,col9 long, col10 long,col11 long, col12 long\n",
    " ) using delta\n",
    " location \"dbfs:/FileStore/tables\""
   ]
  },
  {
   "cell_type": "code",
   "execution_count": 0,
   "metadata": {
    "application/vnd.databricks.v1+cell": {
     "cellMetadata": {
      "byteLimit": 2048000,
      "rowLimit": 10000
     },
     "inputWidgets": {},
     "nuid": "de66ba09-f0a7-43d2-bfba-9bc185c6e571",
     "showTitle": false,
     "title": ""
    }
   },
   "outputs": [
    {
     "output_type": "display_data",
     "data": {
      "text/html": [
       "<style scoped>\n",
       "  .table-result-container {\n",
       "    max-height: 300px;\n",
       "    overflow: auto;\n",
       "  }\n",
       "  table, th, td {\n",
       "    border: 1px solid black;\n",
       "    border-collapse: collapse;\n",
       "  }\n",
       "  th, td {\n",
       "    padding: 5px;\n",
       "  }\n",
       "  th {\n",
       "    text-align: left;\n",
       "  }\n",
       "</style><div class='table-result-container'><table class='table-result'><thead style='background-color: white'><tr><th>col1</th><th>col2</th><th>col3</th><th>col4</th><th>col5</th><th>col6</th><th>col7</th><th>col8</th><th>col9</th><th>col10</th><th>col11</th><th>col12</th></tr></thead><tbody><tr><td>1</td><td>2</td><td>3</td><td>4</td><td>5</td><td>6</td><td>10</td><td>20</td><td>30</td><td>40</td><td>50</td><td>60</td></tr></tbody></table></div>"
      ]
     },
     "metadata": {
      "application/vnd.databricks.v1+output": {
       "addedWidgets": {},
       "aggData": [],
       "aggError": "",
       "aggOverflow": false,
       "aggSchema": [],
       "aggSeriesLimitReached": false,
       "aggType": "",
       "arguments": {},
       "columnCustomDisplayInfos": {},
       "data": [
        [
         1,
         2,
         3,
         4,
         5,
         6,
         10,
         20,
         30,
         40,
         50,
         60
        ]
       ],
       "datasetInfos": [],
       "dbfsResultPath": null,
       "isJsonSchema": true,
       "metadata": {},
       "overflow": false,
       "plotOptions": {
        "customPlotOptions": {},
        "displayType": "table",
        "pivotAggregation": null,
        "pivotColumns": null,
        "xColumns": null,
        "yColumns": null
       },
       "removedWidgets": [],
       "schema": [
        {
         "metadata": "{}",
         "name": "col1",
         "type": "\"long\""
        },
        {
         "metadata": "{}",
         "name": "col2",
         "type": "\"long\""
        },
        {
         "metadata": "{}",
         "name": "col3",
         "type": "\"long\""
        },
        {
         "metadata": "{}",
         "name": "col4",
         "type": "\"long\""
        },
        {
         "metadata": "{}",
         "name": "col5",
         "type": "\"long\""
        },
        {
         "metadata": "{}",
         "name": "col6",
         "type": "\"long\""
        },
        {
         "metadata": "{}",
         "name": "col7",
         "type": "\"long\""
        },
        {
         "metadata": "{}",
         "name": "col8",
         "type": "\"long\""
        },
        {
         "metadata": "{}",
         "name": "col9",
         "type": "\"long\""
        },
        {
         "metadata": "{}",
         "name": "col10",
         "type": "\"long\""
        },
        {
         "metadata": "{}",
         "name": "col11",
         "type": "\"long\""
        },
        {
         "metadata": "{}",
         "name": "col12",
         "type": "\"long\""
        }
       ],
       "type": "table"
      }
     },
     "output_type": "display_data"
    }
   ],
   "source": [
    "sample_data = [(1,2,3,4,5,6,10,20,30,40,50,60)]\n",
    "\n",
    "sample_schema = [\"col1\",\"col2\",\"col3\",\"col4\",\"col5\",\"col6\",\"col7\",\"col8\",\"col9\",\"col10\",\"col11\",\"col12\"]\n",
    "\n",
    "df = spark.createDataFrame(data = sample_data, schema = sample_schema)\n",
    "display(df)"
   ]
  },
  {
   "cell_type": "code",
   "execution_count": 0,
   "metadata": {
    "application/vnd.databricks.v1+cell": {
     "cellMetadata": {
      "byteLimit": 2048000,
      "rowLimit": 10000
     },
     "inputWidgets": {},
     "nuid": "a35423c8-7122-450c-aa2d-724f37f67b0d",
     "showTitle": false,
     "title": ""
    }
   },
   "outputs": [],
   "source": [
    "df.write.format(\"delta\").mode(\"append\").saveAsTable(\"reorder_column\")"
   ]
  },
  {
   "cell_type": "code",
   "execution_count": 0,
   "metadata": {
    "application/vnd.databricks.v1+cell": {
     "cellMetadata": {
      "byteLimit": 2048000,
      "implicitDf": true,
      "rowLimit": 10000
     },
     "inputWidgets": {},
     "nuid": "f01449a5-c110-4615-a507-a1ab92a22788",
     "showTitle": false,
     "title": ""
    }
   },
   "outputs": [
    {
     "output_type": "display_data",
     "data": {
      "text/html": [
       "<style scoped>\n",
       "  .table-result-container {\n",
       "    max-height: 300px;\n",
       "    overflow: auto;\n",
       "  }\n",
       "  table, th, td {\n",
       "    border: 1px solid black;\n",
       "    border-collapse: collapse;\n",
       "  }\n",
       "  th, td {\n",
       "    padding: 5px;\n",
       "  }\n",
       "  th {\n",
       "    text-align: left;\n",
       "  }\n",
       "</style><div class='table-result-container'><table class='table-result'><thead style='background-color: white'><tr><th>col1</th><th>col2</th><th>col3</th><th>col4</th><th>col5</th><th>col6</th><th>col7</th><th>col8</th><th>col9</th><th>col10</th><th>col11</th><th>col12</th></tr></thead><tbody><tr><td>1</td><td>2</td><td>3</td><td>4</td><td>5</td><td>6</td><td>10</td><td>20</td><td>30</td><td>40</td><td>50</td><td>60</td></tr></tbody></table></div>"
      ]
     },
     "metadata": {
      "application/vnd.databricks.v1+output": {
       "addedWidgets": {},
       "aggData": [],
       "aggError": "",
       "aggOverflow": false,
       "aggSchema": [],
       "aggSeriesLimitReached": false,
       "aggType": "",
       "arguments": {},
       "columnCustomDisplayInfos": {},
       "data": [
        [
         1,
         2,
         3,
         4,
         5,
         6,
         10,
         20,
         30,
         40,
         50,
         60
        ]
       ],
       "datasetInfos": [],
       "dbfsResultPath": null,
       "isJsonSchema": true,
       "metadata": {},
       "overflow": false,
       "plotOptions": {
        "customPlotOptions": {},
        "displayType": "table",
        "pivotAggregation": null,
        "pivotColumns": null,
        "xColumns": null,
        "yColumns": null
       },
       "removedWidgets": [],
       "schema": [
        {
         "metadata": "{}",
         "name": "col1",
         "type": "\"long\""
        },
        {
         "metadata": "{}",
         "name": "col2",
         "type": "\"long\""
        },
        {
         "metadata": "{}",
         "name": "col3",
         "type": "\"long\""
        },
        {
         "metadata": "{}",
         "name": "col4",
         "type": "\"long\""
        },
        {
         "metadata": "{}",
         "name": "col5",
         "type": "\"long\""
        },
        {
         "metadata": "{}",
         "name": "col6",
         "type": "\"long\""
        },
        {
         "metadata": "{}",
         "name": "col7",
         "type": "\"long\""
        },
        {
         "metadata": "{}",
         "name": "col8",
         "type": "\"long\""
        },
        {
         "metadata": "{}",
         "name": "col9",
         "type": "\"long\""
        },
        {
         "metadata": "{}",
         "name": "col10",
         "type": "\"long\""
        },
        {
         "metadata": "{}",
         "name": "col11",
         "type": "\"long\""
        },
        {
         "metadata": "{}",
         "name": "col12",
         "type": "\"long\""
        }
       ],
       "type": "table"
      }
     },
     "output_type": "display_data"
    }
   ],
   "source": [
    "%sql\n",
    "select * from reorder_column"
   ]
  },
  {
   "cell_type": "code",
   "execution_count": 0,
   "metadata": {
    "application/vnd.databricks.v1+cell": {
     "cellMetadata": {
      "byteLimit": 2048000,
      "rowLimit": 10000
     },
     "inputWidgets": {},
     "nuid": "ce00fd95-a387-4cc3-a6f4-f519c4951d01",
     "showTitle": true,
     "title": "VIEWING THE DELTA LAYER"
    }
   },
   "outputs": [
    {
     "output_type": "display_data",
     "data": {
      "text/html": [
       "<style scoped>\n",
       "  .table-result-container {\n",
       "    max-height: 300px;\n",
       "    overflow: auto;\n",
       "  }\n",
       "  table, th, td {\n",
       "    border: 1px solid black;\n",
       "    border-collapse: collapse;\n",
       "  }\n",
       "  th, td {\n",
       "    padding: 5px;\n",
       "  }\n",
       "  th {\n",
       "    text-align: left;\n",
       "  }\n",
       "</style><div class='table-result-container'><table class='table-result'><thead style='background-color: white'><tr><th>path</th><th>name</th><th>size</th><th>modificationTime</th></tr></thead><tbody><tr><td>dbfs:/FileStore/tables/_delta_log/.s3-optimization-0</td><td>.s3-optimization-0</td><td>0</td><td>1721122488000</td></tr><tr><td>dbfs:/FileStore/tables/_delta_log/.s3-optimization-1</td><td>.s3-optimization-1</td><td>0</td><td>1721122488000</td></tr><tr><td>dbfs:/FileStore/tables/_delta_log/.s3-optimization-2</td><td>.s3-optimization-2</td><td>0</td><td>1721122488000</td></tr><tr><td>dbfs:/FileStore/tables/_delta_log/00000000000000000000.crc</td><td>00000000000000000000.crc</td><td>2672</td><td>1721122510000</td></tr><tr><td>dbfs:/FileStore/tables/_delta_log/00000000000000000000.json</td><td>00000000000000000000.json</td><td>1655</td><td>1721122489000</td></tr><tr><td>dbfs:/FileStore/tables/_delta_log/00000000000000000001.crc</td><td>00000000000000000001.crc</td><td>3495</td><td>1721123113000</td></tr><tr><td>dbfs:/FileStore/tables/_delta_log/00000000000000000001.json</td><td>00000000000000000001.json</td><td>1346</td><td>1721123107000</td></tr></tbody></table></div>"
      ]
     },
     "metadata": {
      "application/vnd.databricks.v1+output": {
       "addedWidgets": {},
       "aggData": [],
       "aggError": "",
       "aggOverflow": false,
       "aggSchema": [],
       "aggSeriesLimitReached": false,
       "aggType": "",
       "arguments": {},
       "columnCustomDisplayInfos": {},
       "data": [
        [
         "dbfs:/FileStore/tables/_delta_log/.s3-optimization-0",
         ".s3-optimization-0",
         0,
         1721122488000
        ],
        [
         "dbfs:/FileStore/tables/_delta_log/.s3-optimization-1",
         ".s3-optimization-1",
         0,
         1721122488000
        ],
        [
         "dbfs:/FileStore/tables/_delta_log/.s3-optimization-2",
         ".s3-optimization-2",
         0,
         1721122488000
        ],
        [
         "dbfs:/FileStore/tables/_delta_log/00000000000000000000.crc",
         "00000000000000000000.crc",
         2672,
         1721122510000
        ],
        [
         "dbfs:/FileStore/tables/_delta_log/00000000000000000000.json",
         "00000000000000000000.json",
         1655,
         1721122489000
        ],
        [
         "dbfs:/FileStore/tables/_delta_log/00000000000000000001.crc",
         "00000000000000000001.crc",
         3495,
         1721123113000
        ],
        [
         "dbfs:/FileStore/tables/_delta_log/00000000000000000001.json",
         "00000000000000000001.json",
         1346,
         1721123107000
        ]
       ],
       "datasetInfos": [],
       "dbfsResultPath": null,
       "isJsonSchema": true,
       "metadata": {
        "isDbfsCommandResult": false
       },
       "overflow": false,
       "plotOptions": {
        "customPlotOptions": {},
        "displayType": "table",
        "pivotAggregation": null,
        "pivotColumns": null,
        "xColumns": null,
        "yColumns": null
       },
       "removedWidgets": [],
       "schema": [
        {
         "metadata": "{}",
         "name": "path",
         "type": "\"string\""
        },
        {
         "metadata": "{}",
         "name": "name",
         "type": "\"string\""
        },
        {
         "metadata": "{}",
         "name": "size",
         "type": "\"long\""
        },
        {
         "metadata": "{}",
         "name": "modificationTime",
         "type": "\"long\""
        }
       ],
       "type": "table"
      }
     },
     "output_type": "display_data"
    }
   ],
   "source": [
    "%fs\n",
    "\n",
    "ls dbfs:/FileStore/tables/_delta_log\n",
    "\n"
   ]
  },
  {
   "cell_type": "code",
   "execution_count": 0,
   "metadata": {
    "application/vnd.databricks.v1+cell": {
     "cellMetadata": {
      "byteLimit": 2048000,
      "rowLimit": 10000
     },
     "inputWidgets": {},
     "nuid": "7f53122c-85f3-45f0-82bd-2fd06edfbc29",
     "showTitle": true,
     "title": "VIEWING CONTENTS OF JSON LOG FILE"
    }
   },
   "outputs": [
    {
     "output_type": "display_data",
     "data": {
      "text/html": [
       "<style scoped>\n",
       "  .ansiout {\n",
       "    display: block;\n",
       "    unicode-bidi: embed;\n",
       "    white-space: pre-wrap;\n",
       "    word-wrap: break-word;\n",
       "    word-break: break-all;\n",
       "    font-family: \"Menlo\", \"Monaco\", \"Consolas\", \"Ubuntu Mono\", \"Source Code Pro\", monospace;\n",
       "    font-size: 13px;\n",
       "    color: #555;\n",
       "    margin-left: 4px;\n",
       "    line-height: 19px;\n",
       "  }\n",
       "</style>\n",
       "<div class=\"ansiout\">{&quot;commitInfo&quot;:{&quot;timestamp&quot;:1721123106261,&quot;userId&quot;:&quot;1577544735995680&quot;,&quot;userName&quot;:&quot;david.jacob@diggibyte.com&quot;,&quot;operation&quot;:&quot;WRITE&quot;,&quot;operationParameters&quot;:{&quot;mode&quot;:&quot;Append&quot;,&quot;partitionBy&quot;:&quot;[]&quot;},&quot;notebook&quot;:{&quot;notebookId&quot;:&quot;3852950148300765&quot;},&quot;clusterId&quot;:&quot;0716-092209-kv1d0eco&quot;,&quot;readVersion&quot;:0,&quot;isolationLevel&quot;:&quot;WriteSerializable&quot;,&quot;isBlindAppend&quot;:true,&quot;operationMetrics&quot;:{&quot;numFiles&quot;:&quot;1&quot;,&quot;numOutputRows&quot;:&quot;1&quot;,&quot;numOutputBytes&quot;:&quot;3353&quot;},&quot;engineInfo&quot;:&quot;Databricks-Runtime/12.2.x-scala2.12&quot;,&quot;txnId&quot;:&quot;1ac2cf9a-9e14-40fc-8c9c-32a3991102ca&quot;}}\n",
       "{&quot;add&quot;:{&quot;path&quot;:&quot;part-00007-54668efb-850a-4447-a86e-d2571f6f3b3b-c000.snappy.parquet&quot;,&quot;partitionValues&quot;:{},&quot;size&quot;:3353,&quot;modificationTime&quot;:1721123106000,&quot;dataChange&quot;:true,&quot;stats&quot;:&quot;{\\&quot;numRecords\\&quot;:1,\\&quot;minValues\\&quot;:{\\&quot;col1\\&quot;:1,\\&quot;col2\\&quot;:2,\\&quot;col3\\&quot;:3,\\&quot;col4\\&quot;:4,\\&quot;col5\\&quot;:5,\\&quot;col6\\&quot;:6,\\&quot;col7\\&quot;:10,\\&quot;col8\\&quot;:20,\\&quot;col9\\&quot;:30,\\&quot;col10\\&quot;:40,\\&quot;col11\\&quot;:50,\\&quot;col12\\&quot;:60},\\&quot;maxValues\\&quot;:{\\&quot;col1\\&quot;:1,\\&quot;col2\\&quot;:2,\\&quot;col3\\&quot;:3,\\&quot;col4\\&quot;:4,\\&quot;col5\\&quot;:5,\\&quot;col6\\&quot;:6,\\&quot;col7\\&quot;:10,\\&quot;col8\\&quot;:20,\\&quot;col9\\&quot;:30,\\&quot;col10\\&quot;:40,\\&quot;col11\\&quot;:50,\\&quot;col12\\&quot;:60},\\&quot;nullCount\\&quot;:{\\&quot;col1\\&quot;:0,\\&quot;col2\\&quot;:0,\\&quot;col3\\&quot;:0,\\&quot;col4\\&quot;:0,\\&quot;col5\\&quot;:0,\\&quot;col6\\&quot;:0,\\&quot;col7\\&quot;:0,\\&quot;col8\\&quot;:0,\\&quot;col9\\&quot;:0,\\&quot;col10\\&quot;:0,\\&quot;col11\\&quot;:0,\\&quot;col12\\&quot;:0}}&quot;,&quot;tags&quot;:{&quot;INSERTION_TIME&quot;:&quot;1721123106000000&quot;,&quot;MIN_INSERTION_TIME&quot;:&quot;1721123106000000&quot;,&quot;MAX_INSERTION_TIME&quot;:&quot;1721123106000000&quot;,&quot;OPTIMIZE_TARGET_SIZE&quot;:&quot;268435456&quot;}}}\n",
       "\n",
       "</div>"
      ]
     },
     "metadata": {
      "application/vnd.databricks.v1+output": {
       "addedWidgets": {},
       "arguments": {},
       "data": "<div class=\"ansiout\">{&quot;commitInfo&quot;:{&quot;timestamp&quot;:1721123106261,&quot;userId&quot;:&quot;1577544735995680&quot;,&quot;userName&quot;:&quot;david.jacob@diggibyte.com&quot;,&quot;operation&quot;:&quot;WRITE&quot;,&quot;operationParameters&quot;:{&quot;mode&quot;:&quot;Append&quot;,&quot;partitionBy&quot;:&quot;[]&quot;},&quot;notebook&quot;:{&quot;notebookId&quot;:&quot;3852950148300765&quot;},&quot;clusterId&quot;:&quot;0716-092209-kv1d0eco&quot;,&quot;readVersion&quot;:0,&quot;isolationLevel&quot;:&quot;WriteSerializable&quot;,&quot;isBlindAppend&quot;:true,&quot;operationMetrics&quot;:{&quot;numFiles&quot;:&quot;1&quot;,&quot;numOutputRows&quot;:&quot;1&quot;,&quot;numOutputBytes&quot;:&quot;3353&quot;},&quot;engineInfo&quot;:&quot;Databricks-Runtime/12.2.x-scala2.12&quot;,&quot;txnId&quot;:&quot;1ac2cf9a-9e14-40fc-8c9c-32a3991102ca&quot;}}\n{&quot;add&quot;:{&quot;path&quot;:&quot;part-00007-54668efb-850a-4447-a86e-d2571f6f3b3b-c000.snappy.parquet&quot;,&quot;partitionValues&quot;:{},&quot;size&quot;:3353,&quot;modificationTime&quot;:1721123106000,&quot;dataChange&quot;:true,&quot;stats&quot;:&quot;{\\&quot;numRecords\\&quot;:1,\\&quot;minValues\\&quot;:{\\&quot;col1\\&quot;:1,\\&quot;col2\\&quot;:2,\\&quot;col3\\&quot;:3,\\&quot;col4\\&quot;:4,\\&quot;col5\\&quot;:5,\\&quot;col6\\&quot;:6,\\&quot;col7\\&quot;:10,\\&quot;col8\\&quot;:20,\\&quot;col9\\&quot;:30,\\&quot;col10\\&quot;:40,\\&quot;col11\\&quot;:50,\\&quot;col12\\&quot;:60},\\&quot;maxValues\\&quot;:{\\&quot;col1\\&quot;:1,\\&quot;col2\\&quot;:2,\\&quot;col3\\&quot;:3,\\&quot;col4\\&quot;:4,\\&quot;col5\\&quot;:5,\\&quot;col6\\&quot;:6,\\&quot;col7\\&quot;:10,\\&quot;col8\\&quot;:20,\\&quot;col9\\&quot;:30,\\&quot;col10\\&quot;:40,\\&quot;col11\\&quot;:50,\\&quot;col12\\&quot;:60},\\&quot;nullCount\\&quot;:{\\&quot;col1\\&quot;:0,\\&quot;col2\\&quot;:0,\\&quot;col3\\&quot;:0,\\&quot;col4\\&quot;:0,\\&quot;col5\\&quot;:0,\\&quot;col6\\&quot;:0,\\&quot;col7\\&quot;:0,\\&quot;col8\\&quot;:0,\\&quot;col9\\&quot;:0,\\&quot;col10\\&quot;:0,\\&quot;col11\\&quot;:0,\\&quot;col12\\&quot;:0}}&quot;,&quot;tags&quot;:{&quot;INSERTION_TIME&quot;:&quot;1721123106000000&quot;,&quot;MIN_INSERTION_TIME&quot;:&quot;1721123106000000&quot;,&quot;MAX_INSERTION_TIME&quot;:&quot;1721123106000000&quot;,&quot;OPTIMIZE_TARGET_SIZE&quot;:&quot;268435456&quot;}}}\n\n</div>",
       "datasetInfos": [],
       "metadata": {
        "isDbfsCommandResult": false
       },
       "removedWidgets": [],
       "type": "html"
      }
     },
     "output_type": "display_data"
    }
   ],
   "source": [
    "%fs\n",
    "head dbfs:/FileStore/tables/_delta_log/00000000000000000001.json"
   ]
  },
  {
   "cell_type": "code",
   "execution_count": 0,
   "metadata": {
    "application/vnd.databricks.v1+cell": {
     "cellMetadata": {
      "byteLimit": 2048000,
      "rowLimit": 10000
     },
     "inputWidgets": {},
     "nuid": "24f1cada-8068-4d53-838e-378c0c495994",
     "showTitle": true,
     "title": "VIEWING THE DATA FILES\\"
    }
   },
   "outputs": [
    {
     "output_type": "display_data",
     "data": {
      "text/html": [
       "<style scoped>\n",
       "  .table-result-container {\n",
       "    max-height: 300px;\n",
       "    overflow: auto;\n",
       "  }\n",
       "  table, th, td {\n",
       "    border: 1px solid black;\n",
       "    border-collapse: collapse;\n",
       "  }\n",
       "  th, td {\n",
       "    padding: 5px;\n",
       "  }\n",
       "  th {\n",
       "    text-align: left;\n",
       "  }\n",
       "</style><div class='table-result-container'><table class='table-result'><thead style='background-color: white'><tr><th>path</th><th>name</th><th>size</th><th>modificationTime</th></tr></thead><tbody><tr><td>dbfs:/FileStore/tables/_delta_log/</td><td>_delta_log/</td><td>0</td><td>0</td></tr><tr><td>dbfs:/FileStore/tables/part-00007-54668efb-850a-4447-a86e-d2571f6f3b3b-c000.snappy.parquet</td><td>part-00007-54668efb-850a-4447-a86e-d2571f6f3b3b-c000.snappy.parquet</td><td>3353</td><td>1721123106000</td></tr></tbody></table></div>"
      ]
     },
     "metadata": {
      "application/vnd.databricks.v1+output": {
       "addedWidgets": {},
       "aggData": [],
       "aggError": "",
       "aggOverflow": false,
       "aggSchema": [],
       "aggSeriesLimitReached": false,
       "aggType": "",
       "arguments": {},
       "columnCustomDisplayInfos": {},
       "data": [
        [
         "dbfs:/FileStore/tables/_delta_log/",
         "_delta_log/",
         0,
         0
        ],
        [
         "dbfs:/FileStore/tables/part-00007-54668efb-850a-4447-a86e-d2571f6f3b3b-c000.snappy.parquet",
         "part-00007-54668efb-850a-4447-a86e-d2571f6f3b3b-c000.snappy.parquet",
         3353,
         1721123106000
        ]
       ],
       "datasetInfos": [],
       "dbfsResultPath": null,
       "isJsonSchema": true,
       "metadata": {
        "isDbfsCommandResult": false
       },
       "overflow": false,
       "plotOptions": {
        "customPlotOptions": {},
        "displayType": "table",
        "pivotAggregation": null,
        "pivotColumns": null,
        "xColumns": null,
        "yColumns": null
       },
       "removedWidgets": [],
       "schema": [
        {
         "metadata": "{}",
         "name": "path",
         "type": "\"string\""
        },
        {
         "metadata": "{}",
         "name": "name",
         "type": "\"string\""
        },
        {
         "metadata": "{}",
         "name": "size",
         "type": "\"long\""
        },
        {
         "metadata": "{}",
         "name": "modificationTime",
         "type": "\"long\""
        }
       ],
       "type": "table"
      }
     },
     "output_type": "display_data"
    }
   ],
   "source": [
    "%fs\n",
    "\n",
    "ls dbfs:/FileStore/tables/"
   ]
  },
  {
   "cell_type": "code",
   "execution_count": 0,
   "metadata": {
    "application/vnd.databricks.v1+cell": {
     "cellMetadata": {
      "byteLimit": 2048000,
      "implicitDf": true,
      "rowLimit": 10000
     },
     "inputWidgets": {},
     "nuid": "e1b90bc4-7457-403b-8507-7ea09b39913b",
     "showTitle": true,
     "title": "RE-ORDERING COLUMN 8 AS 1ST COLUMN"
    }
   },
   "outputs": [
    {
     "output_type": "display_data",
     "data": {
      "text/html": [
       "<style scoped>\n",
       "  .table-result-container {\n",
       "    max-height: 300px;\n",
       "    overflow: auto;\n",
       "  }\n",
       "  table, th, td {\n",
       "    border: 1px solid black;\n",
       "    border-collapse: collapse;\n",
       "  }\n",
       "  th, td {\n",
       "    padding: 5px;\n",
       "  }\n",
       "  th {\n",
       "    text-align: left;\n",
       "  }\n",
       "</style><div class='table-result-container'><table class='table-result'><thead style='background-color: white'><tr></tr></thead><tbody></tbody></table></div>"
      ]
     },
     "metadata": {
      "application/vnd.databricks.v1+output": {
       "addedWidgets": {},
       "aggData": [],
       "aggError": "",
       "aggOverflow": false,
       "aggSchema": [],
       "aggSeriesLimitReached": false,
       "aggType": "",
       "arguments": {},
       "columnCustomDisplayInfos": {},
       "data": [],
       "datasetInfos": [],
       "dbfsResultPath": null,
       "isJsonSchema": true,
       "metadata": {},
       "overflow": false,
       "plotOptions": {
        "customPlotOptions": {},
        "displayType": "table",
        "pivotAggregation": null,
        "pivotColumns": null,
        "xColumns": null,
        "yColumns": null
       },
       "removedWidgets": [],
       "schema": [],
       "type": "table"
      }
     },
     "output_type": "display_data"
    }
   ],
   "source": [
    "%sql\n",
    "alter table reorder_column change column col8 first"
   ]
  },
  {
   "cell_type": "code",
   "execution_count": 0,
   "metadata": {
    "application/vnd.databricks.v1+cell": {
     "cellMetadata": {
      "byteLimit": 2048000,
      "implicitDf": true,
      "rowLimit": 10000
     },
     "inputWidgets": {},
     "nuid": "30970822-cd52-4145-93c1-a2cf9480623b",
     "showTitle": false,
     "title": ""
    }
   },
   "outputs": [
    {
     "output_type": "display_data",
     "data": {
      "text/html": [
       "<style scoped>\n",
       "  .table-result-container {\n",
       "    max-height: 300px;\n",
       "    overflow: auto;\n",
       "  }\n",
       "  table, th, td {\n",
       "    border: 1px solid black;\n",
       "    border-collapse: collapse;\n",
       "  }\n",
       "  th, td {\n",
       "    padding: 5px;\n",
       "  }\n",
       "  th {\n",
       "    text-align: left;\n",
       "  }\n",
       "</style><div class='table-result-container'><table class='table-result'><thead style='background-color: white'><tr><th>col8</th><th>col1</th><th>col2</th><th>col3</th><th>col4</th><th>col5</th><th>col6</th><th>col7</th><th>col9</th><th>col10</th><th>col11</th><th>col12</th></tr></thead><tbody><tr><td>20</td><td>1</td><td>2</td><td>3</td><td>4</td><td>5</td><td>6</td><td>10</td><td>30</td><td>40</td><td>50</td><td>60</td></tr></tbody></table></div>"
      ]
     },
     "metadata": {
      "application/vnd.databricks.v1+output": {
       "addedWidgets": {},
       "aggData": [],
       "aggError": "",
       "aggOverflow": false,
       "aggSchema": [],
       "aggSeriesLimitReached": false,
       "aggType": "",
       "arguments": {},
       "columnCustomDisplayInfos": {},
       "data": [
        [
         20,
         1,
         2,
         3,
         4,
         5,
         6,
         10,
         30,
         40,
         50,
         60
        ]
       ],
       "datasetInfos": [],
       "dbfsResultPath": null,
       "isJsonSchema": true,
       "metadata": {},
       "overflow": false,
       "plotOptions": {
        "customPlotOptions": {},
        "displayType": "table",
        "pivotAggregation": null,
        "pivotColumns": null,
        "xColumns": null,
        "yColumns": null
       },
       "removedWidgets": [],
       "schema": [
        {
         "metadata": "{}",
         "name": "col8",
         "type": "\"long\""
        },
        {
         "metadata": "{}",
         "name": "col1",
         "type": "\"long\""
        },
        {
         "metadata": "{}",
         "name": "col2",
         "type": "\"long\""
        },
        {
         "metadata": "{}",
         "name": "col3",
         "type": "\"long\""
        },
        {
         "metadata": "{}",
         "name": "col4",
         "type": "\"long\""
        },
        {
         "metadata": "{}",
         "name": "col5",
         "type": "\"long\""
        },
        {
         "metadata": "{}",
         "name": "col6",
         "type": "\"long\""
        },
        {
         "metadata": "{}",
         "name": "col7",
         "type": "\"long\""
        },
        {
         "metadata": "{}",
         "name": "col9",
         "type": "\"long\""
        },
        {
         "metadata": "{}",
         "name": "col10",
         "type": "\"long\""
        },
        {
         "metadata": "{}",
         "name": "col11",
         "type": "\"long\""
        },
        {
         "metadata": "{}",
         "name": "col12",
         "type": "\"long\""
        }
       ],
       "type": "table"
      }
     },
     "output_type": "display_data"
    }
   ],
   "source": [
    "%sql\n",
    "\n",
    "select * from reorder_column"
   ]
  },
  {
   "cell_type": "code",
   "execution_count": 0,
   "metadata": {
    "application/vnd.databricks.v1+cell": {
     "cellMetadata": {
      "byteLimit": 2048000,
      "rowLimit": 10000
     },
     "inputWidgets": {},
     "nuid": "9e16af2c-4c65-44fc-bff0-c545854a3b7a",
     "showTitle": true,
     "title": "Reading Delta Layer Again"
    }
   },
   "outputs": [
    {
     "output_type": "display_data",
     "data": {
      "text/html": [
       "<style scoped>\n",
       "  .table-result-container {\n",
       "    max-height: 300px;\n",
       "    overflow: auto;\n",
       "  }\n",
       "  table, th, td {\n",
       "    border: 1px solid black;\n",
       "    border-collapse: collapse;\n",
       "  }\n",
       "  th, td {\n",
       "    padding: 5px;\n",
       "  }\n",
       "  th {\n",
       "    text-align: left;\n",
       "  }\n",
       "</style><div class='table-result-container'><table class='table-result'><thead style='background-color: white'><tr><th>path</th><th>name</th><th>size</th><th>modificationTime</th></tr></thead><tbody><tr><td>dbfs:/FileStore/tables/_delta_log/.s3-optimization-0</td><td>.s3-optimization-0</td><td>0</td><td>1721122488000</td></tr><tr><td>dbfs:/FileStore/tables/_delta_log/.s3-optimization-1</td><td>.s3-optimization-1</td><td>0</td><td>1721122488000</td></tr><tr><td>dbfs:/FileStore/tables/_delta_log/.s3-optimization-2</td><td>.s3-optimization-2</td><td>0</td><td>1721122488000</td></tr><tr><td>dbfs:/FileStore/tables/_delta_log/00000000000000000000.crc</td><td>00000000000000000000.crc</td><td>2672</td><td>1721122510000</td></tr><tr><td>dbfs:/FileStore/tables/_delta_log/00000000000000000000.json</td><td>00000000000000000000.json</td><td>1655</td><td>1721122489000</td></tr><tr><td>dbfs:/FileStore/tables/_delta_log/00000000000000000001.crc</td><td>00000000000000000001.crc</td><td>3495</td><td>1721123113000</td></tr><tr><td>dbfs:/FileStore/tables/_delta_log/00000000000000000001.json</td><td>00000000000000000001.json</td><td>1346</td><td>1721123107000</td></tr><tr><td>dbfs:/FileStore/tables/_delta_log/00000000000000000002.crc</td><td>00000000000000000002.crc</td><td>2664</td><td>1721124547000</td></tr><tr><td>dbfs:/FileStore/tables/_delta_log/00000000000000000002.json</td><td>00000000000000000002.json</td><td>1630</td><td>1721124543000</td></tr></tbody></table></div>"
      ]
     },
     "metadata": {
      "application/vnd.databricks.v1+output": {
       "addedWidgets": {},
       "aggData": [],
       "aggError": "",
       "aggOverflow": false,
       "aggSchema": [],
       "aggSeriesLimitReached": false,
       "aggType": "",
       "arguments": {},
       "columnCustomDisplayInfos": {},
       "data": [
        [
         "dbfs:/FileStore/tables/_delta_log/.s3-optimization-0",
         ".s3-optimization-0",
         0,
         1721122488000
        ],
        [
         "dbfs:/FileStore/tables/_delta_log/.s3-optimization-1",
         ".s3-optimization-1",
         0,
         1721122488000
        ],
        [
         "dbfs:/FileStore/tables/_delta_log/.s3-optimization-2",
         ".s3-optimization-2",
         0,
         1721122488000
        ],
        [
         "dbfs:/FileStore/tables/_delta_log/00000000000000000000.crc",
         "00000000000000000000.crc",
         2672,
         1721122510000
        ],
        [
         "dbfs:/FileStore/tables/_delta_log/00000000000000000000.json",
         "00000000000000000000.json",
         1655,
         1721122489000
        ],
        [
         "dbfs:/FileStore/tables/_delta_log/00000000000000000001.crc",
         "00000000000000000001.crc",
         3495,
         1721123113000
        ],
        [
         "dbfs:/FileStore/tables/_delta_log/00000000000000000001.json",
         "00000000000000000001.json",
         1346,
         1721123107000
        ],
        [
         "dbfs:/FileStore/tables/_delta_log/00000000000000000002.crc",
         "00000000000000000002.crc",
         2664,
         1721124547000
        ],
        [
         "dbfs:/FileStore/tables/_delta_log/00000000000000000002.json",
         "00000000000000000002.json",
         1630,
         1721124543000
        ]
       ],
       "datasetInfos": [],
       "dbfsResultPath": null,
       "isJsonSchema": true,
       "metadata": {
        "isDbfsCommandResult": false
       },
       "overflow": false,
       "plotOptions": {
        "customPlotOptions": {},
        "displayType": "table",
        "pivotAggregation": null,
        "pivotColumns": null,
        "xColumns": null,
        "yColumns": null
       },
       "removedWidgets": [],
       "schema": [
        {
         "metadata": "{}",
         "name": "path",
         "type": "\"string\""
        },
        {
         "metadata": "{}",
         "name": "name",
         "type": "\"string\""
        },
        {
         "metadata": "{}",
         "name": "size",
         "type": "\"long\""
        },
        {
         "metadata": "{}",
         "name": "modificationTime",
         "type": "\"long\""
        }
       ],
       "type": "table"
      }
     },
     "output_type": "display_data"
    }
   ],
   "source": [
    "%fs\n",
    "ls dbfs:/FileStore/tables/_delta_log"
   ]
  },
  {
   "cell_type": "code",
   "execution_count": 0,
   "metadata": {
    "application/vnd.databricks.v1+cell": {
     "cellMetadata": {
      "byteLimit": 2048000,
      "rowLimit": 10000
     },
     "inputWidgets": {},
     "nuid": "89781bba-6fe2-46f7-983d-c83198a9e86c",
     "showTitle": true,
     "title": "READING CONTENTS OF LATEST JSON LOG FILE"
    }
   },
   "outputs": [
    {
     "output_type": "display_data",
     "data": {
      "text/html": [
       "<style scoped>\n",
       "  .ansiout {\n",
       "    display: block;\n",
       "    unicode-bidi: embed;\n",
       "    white-space: pre-wrap;\n",
       "    word-wrap: break-word;\n",
       "    word-break: break-all;\n",
       "    font-family: \"Menlo\", \"Monaco\", \"Consolas\", \"Ubuntu Mono\", \"Source Code Pro\", monospace;\n",
       "    font-size: 13px;\n",
       "    color: #555;\n",
       "    margin-left: 4px;\n",
       "    line-height: 19px;\n",
       "  }\n",
       "</style>\n",
       "<div class=\"ansiout\">{&quot;commitInfo&quot;:{&quot;timestamp&quot;:1721124542405,&quot;userId&quot;:&quot;1577544735995680&quot;,&quot;userName&quot;:&quot;david.jacob@diggibyte.com&quot;,&quot;operation&quot;:&quot;CHANGE COLUMN&quot;,&quot;operationParameters&quot;:{&quot;column&quot;:&quot;{\\&quot;name\\&quot;:\\&quot;col8\\&quot;,\\&quot;type\\&quot;:\\&quot;long\\&quot;,\\&quot;nullable\\&quot;:true,\\&quot;metadata\\&quot;:{}}&quot;,&quot;position&quot;:&quot;FIRST&quot;},&quot;notebook&quot;:{&quot;notebookId&quot;:&quot;3852950148300765&quot;},&quot;clusterId&quot;:&quot;0716-092209-kv1d0eco&quot;,&quot;readVersion&quot;:1,&quot;isolationLevel&quot;:&quot;WriteSerializable&quot;,&quot;isBlindAppend&quot;:true,&quot;operationMetrics&quot;:{},&quot;engineInfo&quot;:&quot;Databricks-Runtime/12.2.x-scala2.12&quot;,&quot;txnId&quot;:&quot;c0cda573-0d4d-48cf-8705-2b6161f4f1d2&quot;}}\n",
       "{&quot;metaData&quot;:{&quot;id&quot;:&quot;b0d25f97-2759-45b6-b39e-e99f728e9848&quot;,&quot;format&quot;:{&quot;provider&quot;:&quot;parquet&quot;,&quot;options&quot;:{}},&quot;schemaString&quot;:&quot;{\\&quot;type\\&quot;:\\&quot;struct\\&quot;,\\&quot;fields\\&quot;:[{\\&quot;name\\&quot;:\\&quot;col8\\&quot;,\\&quot;type\\&quot;:\\&quot;long\\&quot;,\\&quot;nullable\\&quot;:true,\\&quot;metadata\\&quot;:{}},{\\&quot;name\\&quot;:\\&quot;col1\\&quot;,\\&quot;type\\&quot;:\\&quot;long\\&quot;,\\&quot;nullable\\&quot;:true,\\&quot;metadata\\&quot;:{}},{\\&quot;name\\&quot;:\\&quot;col2\\&quot;,\\&quot;type\\&quot;:\\&quot;long\\&quot;,\\&quot;nullable\\&quot;:true,\\&quot;metadata\\&quot;:{}},{\\&quot;name\\&quot;:\\&quot;col3\\&quot;,\\&quot;type\\&quot;:\\&quot;long\\&quot;,\\&quot;nullable\\&quot;:true,\\&quot;metadata\\&quot;:{}},{\\&quot;name\\&quot;:\\&quot;col4\\&quot;,\\&quot;type\\&quot;:\\&quot;long\\&quot;,\\&quot;nullable\\&quot;:true,\\&quot;metadata\\&quot;:{}},{\\&quot;name\\&quot;:\\&quot;col5\\&quot;,\\&quot;type\\&quot;:\\&quot;long\\&quot;,\\&quot;nullable\\&quot;:true,\\&quot;metadata\\&quot;:{}},{\\&quot;name\\&quot;:\\&quot;col6\\&quot;,\\&quot;type\\&quot;:\\&quot;long\\&quot;,\\&quot;nullable\\&quot;:true,\\&quot;metadata\\&quot;:{}},{\\&quot;name\\&quot;:\\&quot;col7\\&quot;,\\&quot;type\\&quot;:\\&quot;long\\&quot;,\\&quot;nullable\\&quot;:true,\\&quot;metadata\\&quot;:{}},{\\&quot;name\\&quot;:\\&quot;col9\\&quot;,\\&quot;type\\&quot;:\\&quot;long\\&quot;,\\&quot;nullable\\&quot;:true,\\&quot;metadata\\&quot;:{}},{\\&quot;name\\&quot;:\\&quot;col10\\&quot;,\\&quot;type\\&quot;:\\&quot;long\\&quot;,\\&quot;nullable\\&quot;:true,\\&quot;metadata\\&quot;:{}},{\\&quot;name\\&quot;:\\&quot;col11\\&quot;,\\&quot;type\\&quot;:\\&quot;long\\&quot;,\\&quot;nullable\\&quot;:true,\\&quot;metadata\\&quot;:{}},{\\&quot;name\\&quot;:\\&quot;col12\\&quot;,\\&quot;type\\&quot;:\\&quot;long\\&quot;,\\&quot;nullable\\&quot;:true,\\&quot;metadata\\&quot;:{}}]}&quot;,&quot;partitionColumns&quot;:[],&quot;configuration&quot;:{},&quot;createdTime&quot;:1721122485925}}\n",
       "\n",
       "</div>"
      ]
     },
     "metadata": {
      "application/vnd.databricks.v1+output": {
       "addedWidgets": {},
       "arguments": {},
       "data": "<div class=\"ansiout\">{&quot;commitInfo&quot;:{&quot;timestamp&quot;:1721124542405,&quot;userId&quot;:&quot;1577544735995680&quot;,&quot;userName&quot;:&quot;david.jacob@diggibyte.com&quot;,&quot;operation&quot;:&quot;CHANGE COLUMN&quot;,&quot;operationParameters&quot;:{&quot;column&quot;:&quot;{\\&quot;name\\&quot;:\\&quot;col8\\&quot;,\\&quot;type\\&quot;:\\&quot;long\\&quot;,\\&quot;nullable\\&quot;:true,\\&quot;metadata\\&quot;:{}}&quot;,&quot;position&quot;:&quot;FIRST&quot;},&quot;notebook&quot;:{&quot;notebookId&quot;:&quot;3852950148300765&quot;},&quot;clusterId&quot;:&quot;0716-092209-kv1d0eco&quot;,&quot;readVersion&quot;:1,&quot;isolationLevel&quot;:&quot;WriteSerializable&quot;,&quot;isBlindAppend&quot;:true,&quot;operationMetrics&quot;:{},&quot;engineInfo&quot;:&quot;Databricks-Runtime/12.2.x-scala2.12&quot;,&quot;txnId&quot;:&quot;c0cda573-0d4d-48cf-8705-2b6161f4f1d2&quot;}}\n{&quot;metaData&quot;:{&quot;id&quot;:&quot;b0d25f97-2759-45b6-b39e-e99f728e9848&quot;,&quot;format&quot;:{&quot;provider&quot;:&quot;parquet&quot;,&quot;options&quot;:{}},&quot;schemaString&quot;:&quot;{\\&quot;type\\&quot;:\\&quot;struct\\&quot;,\\&quot;fields\\&quot;:[{\\&quot;name\\&quot;:\\&quot;col8\\&quot;,\\&quot;type\\&quot;:\\&quot;long\\&quot;,\\&quot;nullable\\&quot;:true,\\&quot;metadata\\&quot;:{}},{\\&quot;name\\&quot;:\\&quot;col1\\&quot;,\\&quot;type\\&quot;:\\&quot;long\\&quot;,\\&quot;nullable\\&quot;:true,\\&quot;metadata\\&quot;:{}},{\\&quot;name\\&quot;:\\&quot;col2\\&quot;,\\&quot;type\\&quot;:\\&quot;long\\&quot;,\\&quot;nullable\\&quot;:true,\\&quot;metadata\\&quot;:{}},{\\&quot;name\\&quot;:\\&quot;col3\\&quot;,\\&quot;type\\&quot;:\\&quot;long\\&quot;,\\&quot;nullable\\&quot;:true,\\&quot;metadata\\&quot;:{}},{\\&quot;name\\&quot;:\\&quot;col4\\&quot;,\\&quot;type\\&quot;:\\&quot;long\\&quot;,\\&quot;nullable\\&quot;:true,\\&quot;metadata\\&quot;:{}},{\\&quot;name\\&quot;:\\&quot;col5\\&quot;,\\&quot;type\\&quot;:\\&quot;long\\&quot;,\\&quot;nullable\\&quot;:true,\\&quot;metadata\\&quot;:{}},{\\&quot;name\\&quot;:\\&quot;col6\\&quot;,\\&quot;type\\&quot;:\\&quot;long\\&quot;,\\&quot;nullable\\&quot;:true,\\&quot;metadata\\&quot;:{}},{\\&quot;name\\&quot;:\\&quot;col7\\&quot;,\\&quot;type\\&quot;:\\&quot;long\\&quot;,\\&quot;nullable\\&quot;:true,\\&quot;metadata\\&quot;:{}},{\\&quot;name\\&quot;:\\&quot;col9\\&quot;,\\&quot;type\\&quot;:\\&quot;long\\&quot;,\\&quot;nullable\\&quot;:true,\\&quot;metadata\\&quot;:{}},{\\&quot;name\\&quot;:\\&quot;col10\\&quot;,\\&quot;type\\&quot;:\\&quot;long\\&quot;,\\&quot;nullable\\&quot;:true,\\&quot;metadata\\&quot;:{}},{\\&quot;name\\&quot;:\\&quot;col11\\&quot;,\\&quot;type\\&quot;:\\&quot;long\\&quot;,\\&quot;nullable\\&quot;:true,\\&quot;metadata\\&quot;:{}},{\\&quot;name\\&quot;:\\&quot;col12\\&quot;,\\&quot;type\\&quot;:\\&quot;long\\&quot;,\\&quot;nullable\\&quot;:true,\\&quot;metadata\\&quot;:{}}]}&quot;,&quot;partitionColumns&quot;:[],&quot;configuration&quot;:{},&quot;createdTime&quot;:1721122485925}}\n\n</div>",
       "datasetInfos": [],
       "metadata": {
        "isDbfsCommandResult": false
       },
       "removedWidgets": [],
       "type": "html"
      }
     },
     "output_type": "display_data"
    }
   ],
   "source": [
    "%fs\n",
    "head dbfs:/FileStore/tables/_delta_log/00000000000000000002.json"
   ]
  },
  {
   "cell_type": "code",
   "execution_count": 0,
   "metadata": {
    "application/vnd.databricks.v1+cell": {
     "cellMetadata": {
      "byteLimit": 2048000,
      "implicitDf": true,
      "rowLimit": 10000
     },
     "inputWidgets": {},
     "nuid": "bfe4a874-f691-4e43-89b0-5c5b05ea724f",
     "showTitle": true,
     "title": "REORDERING COLUMN 9 AFTER COLUMN 4"
    }
   },
   "outputs": [
    {
     "output_type": "display_data",
     "data": {
      "text/html": [
       "<style scoped>\n",
       "  .table-result-container {\n",
       "    max-height: 300px;\n",
       "    overflow: auto;\n",
       "  }\n",
       "  table, th, td {\n",
       "    border: 1px solid black;\n",
       "    border-collapse: collapse;\n",
       "  }\n",
       "  th, td {\n",
       "    padding: 5px;\n",
       "  }\n",
       "  th {\n",
       "    text-align: left;\n",
       "  }\n",
       "</style><div class='table-result-container'><table class='table-result'><thead style='background-color: white'><tr></tr></thead><tbody></tbody></table></div>"
      ]
     },
     "metadata": {
      "application/vnd.databricks.v1+output": {
       "addedWidgets": {},
       "aggData": [],
       "aggError": "",
       "aggOverflow": false,
       "aggSchema": [],
       "aggSeriesLimitReached": false,
       "aggType": "",
       "arguments": {},
       "columnCustomDisplayInfos": {},
       "data": [],
       "datasetInfos": [],
       "dbfsResultPath": null,
       "isJsonSchema": true,
       "metadata": {},
       "overflow": false,
       "plotOptions": {
        "customPlotOptions": {},
        "displayType": "table",
        "pivotAggregation": null,
        "pivotColumns": null,
        "xColumns": null,
        "yColumns": null
       },
       "removedWidgets": [],
       "schema": [],
       "type": "table"
      }
     },
     "output_type": "display_data"
    }
   ],
   "source": [
    "%sql\n",
    "alter table reorder_column change column col9 after col4"
   ]
  },
  {
   "cell_type": "code",
   "execution_count": 0,
   "metadata": {
    "application/vnd.databricks.v1+cell": {
     "cellMetadata": {
      "byteLimit": 2048000,
      "implicitDf": true,
      "rowLimit": 10000
     },
     "inputWidgets": {},
     "nuid": "dca3fd60-9ca2-481c-a67b-c9b62ff0b11d",
     "showTitle": false,
     "title": ""
    }
   },
   "outputs": [
    {
     "output_type": "display_data",
     "data": {
      "text/html": [
       "<style scoped>\n",
       "  .table-result-container {\n",
       "    max-height: 300px;\n",
       "    overflow: auto;\n",
       "  }\n",
       "  table, th, td {\n",
       "    border: 1px solid black;\n",
       "    border-collapse: collapse;\n",
       "  }\n",
       "  th, td {\n",
       "    padding: 5px;\n",
       "  }\n",
       "  th {\n",
       "    text-align: left;\n",
       "  }\n",
       "</style><div class='table-result-container'><table class='table-result'><thead style='background-color: white'><tr><th>col8</th><th>col1</th><th>col2</th><th>col3</th><th>col4</th><th>col9</th><th>col5</th><th>col6</th><th>col7</th><th>col10</th><th>col11</th><th>col12</th></tr></thead><tbody><tr><td>20</td><td>1</td><td>2</td><td>3</td><td>4</td><td>30</td><td>5</td><td>6</td><td>10</td><td>40</td><td>50</td><td>60</td></tr></tbody></table></div>"
      ]
     },
     "metadata": {
      "application/vnd.databricks.v1+output": {
       "addedWidgets": {},
       "aggData": [],
       "aggError": "",
       "aggOverflow": false,
       "aggSchema": [],
       "aggSeriesLimitReached": false,
       "aggType": "",
       "arguments": {},
       "columnCustomDisplayInfos": {},
       "data": [
        [
         20,
         1,
         2,
         3,
         4,
         30,
         5,
         6,
         10,
         40,
         50,
         60
        ]
       ],
       "datasetInfos": [],
       "dbfsResultPath": null,
       "isJsonSchema": true,
       "metadata": {},
       "overflow": false,
       "plotOptions": {
        "customPlotOptions": {},
        "displayType": "table",
        "pivotAggregation": null,
        "pivotColumns": null,
        "xColumns": null,
        "yColumns": null
       },
       "removedWidgets": [],
       "schema": [
        {
         "metadata": "{}",
         "name": "col8",
         "type": "\"long\""
        },
        {
         "metadata": "{}",
         "name": "col1",
         "type": "\"long\""
        },
        {
         "metadata": "{}",
         "name": "col2",
         "type": "\"long\""
        },
        {
         "metadata": "{}",
         "name": "col3",
         "type": "\"long\""
        },
        {
         "metadata": "{}",
         "name": "col4",
         "type": "\"long\""
        },
        {
         "metadata": "{}",
         "name": "col9",
         "type": "\"long\""
        },
        {
         "metadata": "{}",
         "name": "col5",
         "type": "\"long\""
        },
        {
         "metadata": "{}",
         "name": "col6",
         "type": "\"long\""
        },
        {
         "metadata": "{}",
         "name": "col7",
         "type": "\"long\""
        },
        {
         "metadata": "{}",
         "name": "col10",
         "type": "\"long\""
        },
        {
         "metadata": "{}",
         "name": "col11",
         "type": "\"long\""
        },
        {
         "metadata": "{}",
         "name": "col12",
         "type": "\"long\""
        }
       ],
       "type": "table"
      }
     },
     "output_type": "display_data"
    }
   ],
   "source": [
    "%sql\n",
    "select * from reorder_column"
   ]
  }
 ],
 "metadata": {
  "application/vnd.databricks.v1+notebook": {
   "dashboards": [],
   "environmentMetadata": null,
   "language": "python",
   "notebookMetadata": {
    "mostRecentlyExecutedCommandWithImplicitDF": {
     "commandId": 2854414833320146,
     "dataframes": [
      "_sqldf"
     ]
    },
    "pythonIndentUnit": 4
   },
   "notebookName": "ReOrdering_Column",
   "widgets": {}
  }
 },
 "nbformat": 4,
 "nbformat_minor": 0
}
