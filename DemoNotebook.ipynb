{
 "cells": [
  {
   "cell_type": "code",
   "execution_count": 0,
   "metadata": {
    "application/vnd.databricks.v1+cell": {
     "cellMetadata": {
      "byteLimit": 2048000,
      "rowLimit": 10000
     },
     "inputWidgets": {},
     "nuid": "8f435917-ceff-4627-8223-05a3ef660c51",
     "showTitle": false,
     "title": ""
    }
   },
   "outputs": [
    {
     "output_type": "stream",
     "name": "stdout",
     "output_type": "stream",
     "text": [
      "+-----+-------+------+------+-------+\n|empId|empName|gender|salary|   dept|\n+-----+-------+------+------+-------+\n|    1|    Ram|  male|  3000|     IT|\n|    2|   Ravi|  male|  4000|Payroll|\n|    3|  Angel|female|  5000|     HR|\n|    4|  Ameen|female|  4000|Payroll|\n|    5|  Roger|  male|  6000|     IT|\n+-----+-------+------+------+-------+\n\n+------+-----------+\n|gender|max(salary)|\n+------+-----------+\n|female|       5000|\n|  male|       6000|\n+------+-----------+\n\n+-------+------+----+\n|   dept|female|male|\n+-------+------+----+\n|     HR|     1|null|\n|Payroll|     1|   1|\n|     IT|  null|   2|\n+-------+------+----+\n\n+-------+-------------+\n|   dept|count(gender)|\n+-------+-------------+\n|     HR|            1|\n|Payroll|            2|\n|     IT|            2|\n+-------+-------------+\n\n"
     ]
    }
   ],
   "source": [
    "file_path = 'dbfs:/FileStore/practice/demo_table.csv'\n",
    "df = spark.read.csv(file_path,header = True)\n",
    "df.show()\n",
    "df1 = df.groupBy(\"gender\").agg({\"salary\": \"max\"})\n",
    "df1.show()\n",
    "df2 = df.groupBy(\"dept\").pivot(\"gender\").count()\n",
    "df2.show()\n",
    "df3 = df.groupBy(\"dept\").agg({\"gender\": \"count\"})\n",
    "df3.show()"
   ]
  }
 ],
 "metadata": {
  "application/vnd.databricks.v1+notebook": {
   "dashboards": [],
   "environmentMetadata": null,
   "language": "python",
   "notebookMetadata": {
    "pythonIndentUnit": 4
   },
   "notebookName": "DemoNotebook",
   "widgets": {}
  }
 },
 "nbformat": 4,
 "nbformat_minor": 0
}
